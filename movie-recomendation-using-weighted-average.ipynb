{
 "cells": [
  {
   "cell_type": "code",
   "execution_count": 1,
   "id": "3920500d",
   "metadata": {
    "_cell_guid": "b1076dfc-b9ad-4769-8c92-a6c4dae69d19",
    "_uuid": "8f2839f25d086af736a60e9eeb907d3b93b6e0e5",
    "execution": {
     "iopub.execute_input": "2023-07-11T15:14:18.414768Z",
     "iopub.status.busy": "2023-07-11T15:14:18.414259Z",
     "iopub.status.idle": "2023-07-11T15:14:18.436409Z",
     "shell.execute_reply": "2023-07-11T15:14:18.435575Z"
    },
    "papermill": {
     "duration": 0.037174,
     "end_time": "2023-07-11T15:14:18.439777",
     "exception": false,
     "start_time": "2023-07-11T15:14:18.402603",
     "status": "completed"
    },
    "tags": []
   },
   "outputs": [
    {
     "name": "stdout",
     "output_type": "stream",
     "text": [
      "/kaggle/input/tmdb-movie-metadata/tmdb_5000_movies.csv\n",
      "/kaggle/input/tmdb-movie-metadata/tmdb_5000_credits.csv\n"
     ]
    }
   ],
   "source": [
    "# This Python 3 environment comes with many helpful analytics libraries installed\n",
    "# It is defined by the kaggle/python Docker image: https://github.com/kaggle/docker-python\n",
    "# For example, here's several helpful packages to load\n",
    "\n",
    "import numpy as np # linear algebra\n",
    "import pandas as pd # data processing, CSV file I/O (e.g. pd.read_csv)\n",
    "\n",
    "# Input data files are available in the read-only \"../input/\" directory\n",
    "# For example, running this (by clicking run or pressing Shift+Enter) will list all files under the input directory\n",
    "\n",
    "import os\n",
    "for dirname, _, filenames in os.walk('/kaggle/input'):\n",
    "    for filename in filenames:\n",
    "        print(os.path.join(dirname, filename))\n",
    "\n",
    "# You can write up to 20GB to the current directory (/kaggle/working/) that gets preserved as output when you create a version using \"Save & Run All\" \n",
    "# You can also write temporary files to /kaggle/temp/, but they won't be saved outside of the current session"
   ]
  },
  {
   "cell_type": "code",
   "execution_count": 2,
   "id": "6fc85bfd",
   "metadata": {
    "execution": {
     "iopub.execute_input": "2023-07-11T15:14:18.457760Z",
     "iopub.status.busy": "2023-07-11T15:14:18.457072Z",
     "iopub.status.idle": "2023-07-11T15:14:20.115451Z",
     "shell.execute_reply": "2023-07-11T15:14:20.114193Z"
    },
    "papermill": {
     "duration": 1.671197,
     "end_time": "2023-07-11T15:14:20.118860",
     "exception": false,
     "start_time": "2023-07-11T15:14:18.447663",
     "status": "completed"
    },
    "tags": []
   },
   "outputs": [],
   "source": [
    "import pandas as pd\n",
    "import numpy as np\n",
    "import seaborn as sns\n",
    "import matplotlib.pyplot as plt\n",
    "import warnings\n",
    "warnings.filterwarnings('ignore')"
   ]
  },
  {
   "cell_type": "code",
   "execution_count": 3,
   "id": "0ebdbc71",
   "metadata": {
    "execution": {
     "iopub.execute_input": "2023-07-11T15:14:20.136650Z",
     "iopub.status.busy": "2023-07-11T15:14:20.136240Z",
     "iopub.status.idle": "2023-07-11T15:14:21.101276Z",
     "shell.execute_reply": "2023-07-11T15:14:21.100124Z"
    },
    "papermill": {
     "duration": 0.976776,
     "end_time": "2023-07-11T15:14:21.103987",
     "exception": false,
     "start_time": "2023-07-11T15:14:20.127211",
     "status": "completed"
    },
    "tags": []
   },
   "outputs": [],
   "source": [
    "credits_data=pd.read_csv(\"/kaggle/input/tmdb-movie-metadata/tmdb_5000_credits.csv\")\n",
    "movies_data=pd.read_csv(\"/kaggle/input/tmdb-movie-metadata/tmdb_5000_movies.csv\")"
   ]
  },
  {
   "cell_type": "code",
   "execution_count": 4,
   "id": "a9e5b4f4",
   "metadata": {
    "execution": {
     "iopub.execute_input": "2023-07-11T15:14:21.120975Z",
     "iopub.status.busy": "2023-07-11T15:14:21.120556Z",
     "iopub.status.idle": "2023-07-11T15:14:21.152372Z",
     "shell.execute_reply": "2023-07-11T15:14:21.150654Z"
    },
    "papermill": {
     "duration": 0.044137,
     "end_time": "2023-07-11T15:14:21.155623",
     "exception": false,
     "start_time": "2023-07-11T15:14:21.111486",
     "status": "completed"
    },
    "tags": []
   },
   "outputs": [
    {
     "data": {
      "text/html": [
       "<div>\n",
       "<style scoped>\n",
       "    .dataframe tbody tr th:only-of-type {\n",
       "        vertical-align: middle;\n",
       "    }\n",
       "\n",
       "    .dataframe tbody tr th {\n",
       "        vertical-align: top;\n",
       "    }\n",
       "\n",
       "    .dataframe thead th {\n",
       "        text-align: right;\n",
       "    }\n",
       "</style>\n",
       "<table border=\"1\" class=\"dataframe\">\n",
       "  <thead>\n",
       "    <tr style=\"text-align: right;\">\n",
       "      <th></th>\n",
       "      <th>movie_id</th>\n",
       "      <th>title</th>\n",
       "      <th>cast</th>\n",
       "      <th>crew</th>\n",
       "    </tr>\n",
       "  </thead>\n",
       "  <tbody>\n",
       "    <tr>\n",
       "      <th>0</th>\n",
       "      <td>19995</td>\n",
       "      <td>Avatar</td>\n",
       "      <td>[{\"cast_id\": 242, \"character\": \"Jake Sully\", \"...</td>\n",
       "      <td>[{\"credit_id\": \"52fe48009251416c750aca23\", \"de...</td>\n",
       "    </tr>\n",
       "    <tr>\n",
       "      <th>1</th>\n",
       "      <td>285</td>\n",
       "      <td>Pirates of the Caribbean: At World's End</td>\n",
       "      <td>[{\"cast_id\": 4, \"character\": \"Captain Jack Spa...</td>\n",
       "      <td>[{\"credit_id\": \"52fe4232c3a36847f800b579\", \"de...</td>\n",
       "    </tr>\n",
       "    <tr>\n",
       "      <th>2</th>\n",
       "      <td>206647</td>\n",
       "      <td>Spectre</td>\n",
       "      <td>[{\"cast_id\": 1, \"character\": \"James Bond\", \"cr...</td>\n",
       "      <td>[{\"credit_id\": \"54805967c3a36829b5002c41\", \"de...</td>\n",
       "    </tr>\n",
       "    <tr>\n",
       "      <th>3</th>\n",
       "      <td>49026</td>\n",
       "      <td>The Dark Knight Rises</td>\n",
       "      <td>[{\"cast_id\": 2, \"character\": \"Bruce Wayne / Ba...</td>\n",
       "      <td>[{\"credit_id\": \"52fe4781c3a36847f81398c3\", \"de...</td>\n",
       "    </tr>\n",
       "    <tr>\n",
       "      <th>4</th>\n",
       "      <td>49529</td>\n",
       "      <td>John Carter</td>\n",
       "      <td>[{\"cast_id\": 5, \"character\": \"John Carter\", \"c...</td>\n",
       "      <td>[{\"credit_id\": \"52fe479ac3a36847f813eaa3\", \"de...</td>\n",
       "    </tr>\n",
       "  </tbody>\n",
       "</table>\n",
       "</div>"
      ],
      "text/plain": [
       "   movie_id                                     title  \\\n",
       "0     19995                                    Avatar   \n",
       "1       285  Pirates of the Caribbean: At World's End   \n",
       "2    206647                                   Spectre   \n",
       "3     49026                     The Dark Knight Rises   \n",
       "4     49529                               John Carter   \n",
       "\n",
       "                                                cast  \\\n",
       "0  [{\"cast_id\": 242, \"character\": \"Jake Sully\", \"...   \n",
       "1  [{\"cast_id\": 4, \"character\": \"Captain Jack Spa...   \n",
       "2  [{\"cast_id\": 1, \"character\": \"James Bond\", \"cr...   \n",
       "3  [{\"cast_id\": 2, \"character\": \"Bruce Wayne / Ba...   \n",
       "4  [{\"cast_id\": 5, \"character\": \"John Carter\", \"c...   \n",
       "\n",
       "                                                crew  \n",
       "0  [{\"credit_id\": \"52fe48009251416c750aca23\", \"de...  \n",
       "1  [{\"credit_id\": \"52fe4232c3a36847f800b579\", \"de...  \n",
       "2  [{\"credit_id\": \"54805967c3a36829b5002c41\", \"de...  \n",
       "3  [{\"credit_id\": \"52fe4781c3a36847f81398c3\", \"de...  \n",
       "4  [{\"credit_id\": \"52fe479ac3a36847f813eaa3\", \"de...  "
      ]
     },
     "execution_count": 4,
     "metadata": {},
     "output_type": "execute_result"
    }
   ],
   "source": [
    "credits_data.head(5)"
   ]
  },
  {
   "cell_type": "code",
   "execution_count": 5,
   "id": "d4aa3004",
   "metadata": {
    "execution": {
     "iopub.execute_input": "2023-07-11T15:14:21.173474Z",
     "iopub.status.busy": "2023-07-11T15:14:21.173072Z",
     "iopub.status.idle": "2023-07-11T15:14:21.192805Z",
     "shell.execute_reply": "2023-07-11T15:14:21.191677Z"
    },
    "papermill": {
     "duration": 0.031501,
     "end_time": "2023-07-11T15:14:21.195634",
     "exception": false,
     "start_time": "2023-07-11T15:14:21.164133",
     "status": "completed"
    },
    "tags": []
   },
   "outputs": [
    {
     "data": {
      "text/html": [
       "<div>\n",
       "<style scoped>\n",
       "    .dataframe tbody tr th:only-of-type {\n",
       "        vertical-align: middle;\n",
       "    }\n",
       "\n",
       "    .dataframe tbody tr th {\n",
       "        vertical-align: top;\n",
       "    }\n",
       "\n",
       "    .dataframe thead th {\n",
       "        text-align: right;\n",
       "    }\n",
       "</style>\n",
       "<table border=\"1\" class=\"dataframe\">\n",
       "  <thead>\n",
       "    <tr style=\"text-align: right;\">\n",
       "      <th></th>\n",
       "      <th>budget</th>\n",
       "      <th>genres</th>\n",
       "      <th>homepage</th>\n",
       "      <th>id</th>\n",
       "      <th>keywords</th>\n",
       "      <th>original_language</th>\n",
       "      <th>original_title</th>\n",
       "      <th>overview</th>\n",
       "      <th>popularity</th>\n",
       "      <th>production_companies</th>\n",
       "      <th>production_countries</th>\n",
       "      <th>release_date</th>\n",
       "      <th>revenue</th>\n",
       "      <th>runtime</th>\n",
       "      <th>spoken_languages</th>\n",
       "      <th>status</th>\n",
       "      <th>tagline</th>\n",
       "      <th>title</th>\n",
       "      <th>vote_average</th>\n",
       "      <th>vote_count</th>\n",
       "    </tr>\n",
       "  </thead>\n",
       "  <tbody>\n",
       "    <tr>\n",
       "      <th>0</th>\n",
       "      <td>237000000</td>\n",
       "      <td>[{\"id\": 28, \"name\": \"Action\"}, {\"id\": 12, \"nam...</td>\n",
       "      <td>http://www.avatarmovie.com/</td>\n",
       "      <td>19995</td>\n",
       "      <td>[{\"id\": 1463, \"name\": \"culture clash\"}, {\"id\":...</td>\n",
       "      <td>en</td>\n",
       "      <td>Avatar</td>\n",
       "      <td>In the 22nd century, a paraplegic Marine is di...</td>\n",
       "      <td>150.437577</td>\n",
       "      <td>[{\"name\": \"Ingenious Film Partners\", \"id\": 289...</td>\n",
       "      <td>[{\"iso_3166_1\": \"US\", \"name\": \"United States o...</td>\n",
       "      <td>2009-12-10</td>\n",
       "      <td>2787965087</td>\n",
       "      <td>162.0</td>\n",
       "      <td>[{\"iso_639_1\": \"en\", \"name\": \"English\"}, {\"iso...</td>\n",
       "      <td>Released</td>\n",
       "      <td>Enter the World of Pandora.</td>\n",
       "      <td>Avatar</td>\n",
       "      <td>7.2</td>\n",
       "      <td>11800</td>\n",
       "    </tr>\n",
       "  </tbody>\n",
       "</table>\n",
       "</div>"
      ],
      "text/plain": [
       "      budget                                             genres  \\\n",
       "0  237000000  [{\"id\": 28, \"name\": \"Action\"}, {\"id\": 12, \"nam...   \n",
       "\n",
       "                      homepage     id  \\\n",
       "0  http://www.avatarmovie.com/  19995   \n",
       "\n",
       "                                            keywords original_language  \\\n",
       "0  [{\"id\": 1463, \"name\": \"culture clash\"}, {\"id\":...                en   \n",
       "\n",
       "  original_title                                           overview  \\\n",
       "0         Avatar  In the 22nd century, a paraplegic Marine is di...   \n",
       "\n",
       "   popularity                               production_companies  \\\n",
       "0  150.437577  [{\"name\": \"Ingenious Film Partners\", \"id\": 289...   \n",
       "\n",
       "                                production_countries release_date     revenue  \\\n",
       "0  [{\"iso_3166_1\": \"US\", \"name\": \"United States o...   2009-12-10  2787965087   \n",
       "\n",
       "   runtime                                   spoken_languages    status  \\\n",
       "0    162.0  [{\"iso_639_1\": \"en\", \"name\": \"English\"}, {\"iso...  Released   \n",
       "\n",
       "                       tagline   title  vote_average  vote_count  \n",
       "0  Enter the World of Pandora.  Avatar           7.2       11800  "
      ]
     },
     "execution_count": 5,
     "metadata": {},
     "output_type": "execute_result"
    }
   ],
   "source": [
    "movies_data.head(1)"
   ]
  },
  {
   "cell_type": "code",
   "execution_count": 6,
   "id": "83abbbc9",
   "metadata": {
    "execution": {
     "iopub.execute_input": "2023-07-11T15:14:21.214891Z",
     "iopub.status.busy": "2023-07-11T15:14:21.214461Z",
     "iopub.status.idle": "2023-07-11T15:14:21.222099Z",
     "shell.execute_reply": "2023-07-11T15:14:21.220549Z"
    },
    "papermill": {
     "duration": 0.020682,
     "end_time": "2023-07-11T15:14:21.224837",
     "exception": false,
     "start_time": "2023-07-11T15:14:21.204155",
     "status": "completed"
    },
    "tags": []
   },
   "outputs": [
    {
     "name": "stdout",
     "output_type": "stream",
     "text": [
      "CREDITS Data: (4803, 4)\n",
      "Movies Data: (4803, 20)\n"
     ]
    }
   ],
   "source": [
    "print(\"CREDITS Data:\",credits_data.shape)\n",
    "print(\"Movies Data:\",movies_data.shape)"
   ]
  },
  {
   "cell_type": "code",
   "execution_count": 7,
   "id": "071509cd",
   "metadata": {
    "execution": {
     "iopub.execute_input": "2023-07-11T15:14:21.243859Z",
     "iopub.status.busy": "2023-07-11T15:14:21.243428Z",
     "iopub.status.idle": "2023-07-11T15:14:21.260654Z",
     "shell.execute_reply": "2023-07-11T15:14:21.259370Z"
    },
    "papermill": {
     "duration": 0.029003,
     "end_time": "2023-07-11T15:14:21.263185",
     "exception": false,
     "start_time": "2023-07-11T15:14:21.234182",
     "status": "completed"
    },
    "tags": []
   },
   "outputs": [
    {
     "data": {
      "text/plain": [
       "movie_id    0\n",
       "title       0\n",
       "cast        0\n",
       "crew        0\n",
       "dtype: int64"
      ]
     },
     "execution_count": 7,
     "metadata": {},
     "output_type": "execute_result"
    }
   ],
   "source": [
    "credits_data.isnull().sum(axis=0)"
   ]
  },
  {
   "cell_type": "code",
   "execution_count": 8,
   "id": "20296dcf",
   "metadata": {
    "execution": {
     "iopub.execute_input": "2023-07-11T15:14:21.281888Z",
     "iopub.status.busy": "2023-07-11T15:14:21.281500Z",
     "iopub.status.idle": "2023-07-11T15:14:21.303422Z",
     "shell.execute_reply": "2023-07-11T15:14:21.301874Z"
    },
    "papermill": {
     "duration": 0.035108,
     "end_time": "2023-07-11T15:14:21.306695",
     "exception": false,
     "start_time": "2023-07-11T15:14:21.271587",
     "status": "completed"
    },
    "tags": []
   },
   "outputs": [
    {
     "data": {
      "text/plain": [
       "budget                     0\n",
       "genres                     0\n",
       "homepage                3091\n",
       "id                         0\n",
       "keywords                   0\n",
       "original_language          0\n",
       "original_title             0\n",
       "overview                   3\n",
       "popularity                 0\n",
       "production_companies       0\n",
       "production_countries       0\n",
       "release_date               1\n",
       "revenue                    0\n",
       "runtime                    2\n",
       "spoken_languages           0\n",
       "status                     0\n",
       "tagline                  844\n",
       "title                      0\n",
       "vote_average               0\n",
       "vote_count                 0\n",
       "dtype: int64"
      ]
     },
     "execution_count": 8,
     "metadata": {},
     "output_type": "execute_result"
    }
   ],
   "source": [
    "movies_data.isnull().sum(axis=0)"
   ]
  },
  {
   "cell_type": "code",
   "execution_count": 9,
   "id": "532d00ac",
   "metadata": {
    "execution": {
     "iopub.execute_input": "2023-07-11T15:14:21.325388Z",
     "iopub.status.busy": "2023-07-11T15:14:21.324976Z",
     "iopub.status.idle": "2023-07-11T15:14:21.335576Z",
     "shell.execute_reply": "2023-07-11T15:14:21.334296Z"
    },
    "papermill": {
     "duration": 0.023777,
     "end_time": "2023-07-11T15:14:21.338679",
     "exception": false,
     "start_time": "2023-07-11T15:14:21.314902",
     "status": "completed"
    },
    "tags": []
   },
   "outputs": [],
   "source": [
    "credits_column_rename=credits_data.rename(index=str,columns={\"movie_id\":\"id\"})"
   ]
  },
  {
   "cell_type": "code",
   "execution_count": 10,
   "id": "05fc12fa",
   "metadata": {
    "execution": {
     "iopub.execute_input": "2023-07-11T15:14:21.359669Z",
     "iopub.status.busy": "2023-07-11T15:14:21.359034Z",
     "iopub.status.idle": "2023-07-11T15:14:21.371337Z",
     "shell.execute_reply": "2023-07-11T15:14:21.370327Z"
    },
    "papermill": {
     "duration": 0.024836,
     "end_time": "2023-07-11T15:14:21.373691",
     "exception": false,
     "start_time": "2023-07-11T15:14:21.348855",
     "status": "completed"
    },
    "tags": []
   },
   "outputs": [
    {
     "data": {
      "text/html": [
       "<div>\n",
       "<style scoped>\n",
       "    .dataframe tbody tr th:only-of-type {\n",
       "        vertical-align: middle;\n",
       "    }\n",
       "\n",
       "    .dataframe tbody tr th {\n",
       "        vertical-align: top;\n",
       "    }\n",
       "\n",
       "    .dataframe thead th {\n",
       "        text-align: right;\n",
       "    }\n",
       "</style>\n",
       "<table border=\"1\" class=\"dataframe\">\n",
       "  <thead>\n",
       "    <tr style=\"text-align: right;\">\n",
       "      <th></th>\n",
       "      <th>id</th>\n",
       "      <th>title</th>\n",
       "      <th>cast</th>\n",
       "      <th>crew</th>\n",
       "    </tr>\n",
       "  </thead>\n",
       "  <tbody>\n",
       "    <tr>\n",
       "      <th>0</th>\n",
       "      <td>19995</td>\n",
       "      <td>Avatar</td>\n",
       "      <td>[{\"cast_id\": 242, \"character\": \"Jake Sully\", \"...</td>\n",
       "      <td>[{\"credit_id\": \"52fe48009251416c750aca23\", \"de...</td>\n",
       "    </tr>\n",
       "    <tr>\n",
       "      <th>1</th>\n",
       "      <td>285</td>\n",
       "      <td>Pirates of the Caribbean: At World's End</td>\n",
       "      <td>[{\"cast_id\": 4, \"character\": \"Captain Jack Spa...</td>\n",
       "      <td>[{\"credit_id\": \"52fe4232c3a36847f800b579\", \"de...</td>\n",
       "    </tr>\n",
       "    <tr>\n",
       "      <th>2</th>\n",
       "      <td>206647</td>\n",
       "      <td>Spectre</td>\n",
       "      <td>[{\"cast_id\": 1, \"character\": \"James Bond\", \"cr...</td>\n",
       "      <td>[{\"credit_id\": \"54805967c3a36829b5002c41\", \"de...</td>\n",
       "    </tr>\n",
       "    <tr>\n",
       "      <th>3</th>\n",
       "      <td>49026</td>\n",
       "      <td>The Dark Knight Rises</td>\n",
       "      <td>[{\"cast_id\": 2, \"character\": \"Bruce Wayne / Ba...</td>\n",
       "      <td>[{\"credit_id\": \"52fe4781c3a36847f81398c3\", \"de...</td>\n",
       "    </tr>\n",
       "    <tr>\n",
       "      <th>4</th>\n",
       "      <td>49529</td>\n",
       "      <td>John Carter</td>\n",
       "      <td>[{\"cast_id\": 5, \"character\": \"John Carter\", \"c...</td>\n",
       "      <td>[{\"credit_id\": \"52fe479ac3a36847f813eaa3\", \"de...</td>\n",
       "    </tr>\n",
       "  </tbody>\n",
       "</table>\n",
       "</div>"
      ],
      "text/plain": [
       "       id                                     title  \\\n",
       "0   19995                                    Avatar   \n",
       "1     285  Pirates of the Caribbean: At World's End   \n",
       "2  206647                                   Spectre   \n",
       "3   49026                     The Dark Knight Rises   \n",
       "4   49529                               John Carter   \n",
       "\n",
       "                                                cast  \\\n",
       "0  [{\"cast_id\": 242, \"character\": \"Jake Sully\", \"...   \n",
       "1  [{\"cast_id\": 4, \"character\": \"Captain Jack Spa...   \n",
       "2  [{\"cast_id\": 1, \"character\": \"James Bond\", \"cr...   \n",
       "3  [{\"cast_id\": 2, \"character\": \"Bruce Wayne / Ba...   \n",
       "4  [{\"cast_id\": 5, \"character\": \"John Carter\", \"c...   \n",
       "\n",
       "                                                crew  \n",
       "0  [{\"credit_id\": \"52fe48009251416c750aca23\", \"de...  \n",
       "1  [{\"credit_id\": \"52fe4232c3a36847f800b579\", \"de...  \n",
       "2  [{\"credit_id\": \"54805967c3a36829b5002c41\", \"de...  \n",
       "3  [{\"credit_id\": \"52fe4781c3a36847f81398c3\", \"de...  \n",
       "4  [{\"credit_id\": \"52fe479ac3a36847f813eaa3\", \"de...  "
      ]
     },
     "execution_count": 10,
     "metadata": {},
     "output_type": "execute_result"
    }
   ],
   "source": [
    "credits_column_rename.head()"
   ]
  },
  {
   "cell_type": "code",
   "execution_count": 11,
   "id": "84da1ced",
   "metadata": {
    "execution": {
     "iopub.execute_input": "2023-07-11T15:14:21.393980Z",
     "iopub.status.busy": "2023-07-11T15:14:21.392910Z",
     "iopub.status.idle": "2023-07-11T15:14:21.424510Z",
     "shell.execute_reply": "2023-07-11T15:14:21.423353Z"
    },
    "papermill": {
     "duration": 0.044602,
     "end_time": "2023-07-11T15:14:21.427808",
     "exception": false,
     "start_time": "2023-07-11T15:14:21.383206",
     "status": "completed"
    },
    "tags": []
   },
   "outputs": [],
   "source": [
    "movies_data_merge=movies_data.merge(credits_column_rename,on=\"id\")"
   ]
  },
  {
   "cell_type": "code",
   "execution_count": 12,
   "id": "ebb0633c",
   "metadata": {
    "execution": {
     "iopub.execute_input": "2023-07-11T15:14:21.449599Z",
     "iopub.status.busy": "2023-07-11T15:14:21.448620Z",
     "iopub.status.idle": "2023-07-11T15:14:21.474378Z",
     "shell.execute_reply": "2023-07-11T15:14:21.473120Z"
    },
    "papermill": {
     "duration": 0.040153,
     "end_time": "2023-07-11T15:14:21.477521",
     "exception": false,
     "start_time": "2023-07-11T15:14:21.437368",
     "status": "completed"
    },
    "tags": []
   },
   "outputs": [
    {
     "data": {
      "text/html": [
       "<div>\n",
       "<style scoped>\n",
       "    .dataframe tbody tr th:only-of-type {\n",
       "        vertical-align: middle;\n",
       "    }\n",
       "\n",
       "    .dataframe tbody tr th {\n",
       "        vertical-align: top;\n",
       "    }\n",
       "\n",
       "    .dataframe thead th {\n",
       "        text-align: right;\n",
       "    }\n",
       "</style>\n",
       "<table border=\"1\" class=\"dataframe\">\n",
       "  <thead>\n",
       "    <tr style=\"text-align: right;\">\n",
       "      <th></th>\n",
       "      <th>budget</th>\n",
       "      <th>genres</th>\n",
       "      <th>homepage</th>\n",
       "      <th>id</th>\n",
       "      <th>keywords</th>\n",
       "      <th>original_language</th>\n",
       "      <th>original_title</th>\n",
       "      <th>overview</th>\n",
       "      <th>popularity</th>\n",
       "      <th>production_companies</th>\n",
       "      <th>...</th>\n",
       "      <th>runtime</th>\n",
       "      <th>spoken_languages</th>\n",
       "      <th>status</th>\n",
       "      <th>tagline</th>\n",
       "      <th>title_x</th>\n",
       "      <th>vote_average</th>\n",
       "      <th>vote_count</th>\n",
       "      <th>title_y</th>\n",
       "      <th>cast</th>\n",
       "      <th>crew</th>\n",
       "    </tr>\n",
       "  </thead>\n",
       "  <tbody>\n",
       "    <tr>\n",
       "      <th>0</th>\n",
       "      <td>237000000</td>\n",
       "      <td>[{\"id\": 28, \"name\": \"Action\"}, {\"id\": 12, \"nam...</td>\n",
       "      <td>http://www.avatarmovie.com/</td>\n",
       "      <td>19995</td>\n",
       "      <td>[{\"id\": 1463, \"name\": \"culture clash\"}, {\"id\":...</td>\n",
       "      <td>en</td>\n",
       "      <td>Avatar</td>\n",
       "      <td>In the 22nd century, a paraplegic Marine is di...</td>\n",
       "      <td>150.437577</td>\n",
       "      <td>[{\"name\": \"Ingenious Film Partners\", \"id\": 289...</td>\n",
       "      <td>...</td>\n",
       "      <td>162.0</td>\n",
       "      <td>[{\"iso_639_1\": \"en\", \"name\": \"English\"}, {\"iso...</td>\n",
       "      <td>Released</td>\n",
       "      <td>Enter the World of Pandora.</td>\n",
       "      <td>Avatar</td>\n",
       "      <td>7.2</td>\n",
       "      <td>11800</td>\n",
       "      <td>Avatar</td>\n",
       "      <td>[{\"cast_id\": 242, \"character\": \"Jake Sully\", \"...</td>\n",
       "      <td>[{\"credit_id\": \"52fe48009251416c750aca23\", \"de...</td>\n",
       "    </tr>\n",
       "    <tr>\n",
       "      <th>1</th>\n",
       "      <td>300000000</td>\n",
       "      <td>[{\"id\": 12, \"name\": \"Adventure\"}, {\"id\": 14, \"...</td>\n",
       "      <td>http://disney.go.com/disneypictures/pirates/</td>\n",
       "      <td>285</td>\n",
       "      <td>[{\"id\": 270, \"name\": \"ocean\"}, {\"id\": 726, \"na...</td>\n",
       "      <td>en</td>\n",
       "      <td>Pirates of the Caribbean: At World's End</td>\n",
       "      <td>Captain Barbossa, long believed to be dead, ha...</td>\n",
       "      <td>139.082615</td>\n",
       "      <td>[{\"name\": \"Walt Disney Pictures\", \"id\": 2}, {\"...</td>\n",
       "      <td>...</td>\n",
       "      <td>169.0</td>\n",
       "      <td>[{\"iso_639_1\": \"en\", \"name\": \"English\"}]</td>\n",
       "      <td>Released</td>\n",
       "      <td>At the end of the world, the adventure begins.</td>\n",
       "      <td>Pirates of the Caribbean: At World's End</td>\n",
       "      <td>6.9</td>\n",
       "      <td>4500</td>\n",
       "      <td>Pirates of the Caribbean: At World's End</td>\n",
       "      <td>[{\"cast_id\": 4, \"character\": \"Captain Jack Spa...</td>\n",
       "      <td>[{\"credit_id\": \"52fe4232c3a36847f800b579\", \"de...</td>\n",
       "    </tr>\n",
       "  </tbody>\n",
       "</table>\n",
       "<p>2 rows × 23 columns</p>\n",
       "</div>"
      ],
      "text/plain": [
       "      budget                                             genres  \\\n",
       "0  237000000  [{\"id\": 28, \"name\": \"Action\"}, {\"id\": 12, \"nam...   \n",
       "1  300000000  [{\"id\": 12, \"name\": \"Adventure\"}, {\"id\": 14, \"...   \n",
       "\n",
       "                                       homepage     id  \\\n",
       "0                   http://www.avatarmovie.com/  19995   \n",
       "1  http://disney.go.com/disneypictures/pirates/    285   \n",
       "\n",
       "                                            keywords original_language  \\\n",
       "0  [{\"id\": 1463, \"name\": \"culture clash\"}, {\"id\":...                en   \n",
       "1  [{\"id\": 270, \"name\": \"ocean\"}, {\"id\": 726, \"na...                en   \n",
       "\n",
       "                             original_title  \\\n",
       "0                                    Avatar   \n",
       "1  Pirates of the Caribbean: At World's End   \n",
       "\n",
       "                                            overview  popularity  \\\n",
       "0  In the 22nd century, a paraplegic Marine is di...  150.437577   \n",
       "1  Captain Barbossa, long believed to be dead, ha...  139.082615   \n",
       "\n",
       "                                production_companies  ... runtime  \\\n",
       "0  [{\"name\": \"Ingenious Film Partners\", \"id\": 289...  ...   162.0   \n",
       "1  [{\"name\": \"Walt Disney Pictures\", \"id\": 2}, {\"...  ...   169.0   \n",
       "\n",
       "                                    spoken_languages    status  \\\n",
       "0  [{\"iso_639_1\": \"en\", \"name\": \"English\"}, {\"iso...  Released   \n",
       "1           [{\"iso_639_1\": \"en\", \"name\": \"English\"}]  Released   \n",
       "\n",
       "                                          tagline  \\\n",
       "0                     Enter the World of Pandora.   \n",
       "1  At the end of the world, the adventure begins.   \n",
       "\n",
       "                                    title_x vote_average vote_count  \\\n",
       "0                                    Avatar          7.2      11800   \n",
       "1  Pirates of the Caribbean: At World's End          6.9       4500   \n",
       "\n",
       "                                    title_y  \\\n",
       "0                                    Avatar   \n",
       "1  Pirates of the Caribbean: At World's End   \n",
       "\n",
       "                                                cast  \\\n",
       "0  [{\"cast_id\": 242, \"character\": \"Jake Sully\", \"...   \n",
       "1  [{\"cast_id\": 4, \"character\": \"Captain Jack Spa...   \n",
       "\n",
       "                                                crew  \n",
       "0  [{\"credit_id\": \"52fe48009251416c750aca23\", \"de...  \n",
       "1  [{\"credit_id\": \"52fe4232c3a36847f800b579\", \"de...  \n",
       "\n",
       "[2 rows x 23 columns]"
      ]
     },
     "execution_count": 12,
     "metadata": {},
     "output_type": "execute_result"
    }
   ],
   "source": [
    "movies_data_merge.head(2)"
   ]
  },
  {
   "cell_type": "code",
   "execution_count": 13,
   "id": "16910eb4",
   "metadata": {
    "execution": {
     "iopub.execute_input": "2023-07-11T15:14:21.496740Z",
     "iopub.status.busy": "2023-07-11T15:14:21.496361Z",
     "iopub.status.idle": "2023-07-11T15:14:21.504181Z",
     "shell.execute_reply": "2023-07-11T15:14:21.502773Z"
    },
    "papermill": {
     "duration": 0.020217,
     "end_time": "2023-07-11T15:14:21.506464",
     "exception": false,
     "start_time": "2023-07-11T15:14:21.486247",
     "status": "completed"
    },
    "tags": []
   },
   "outputs": [
    {
     "data": {
      "text/plain": [
       "Index(['budget', 'genres', 'homepage', 'id', 'keywords', 'original_language',\n",
       "       'original_title', 'overview', 'popularity', 'production_companies',\n",
       "       'production_countries', 'release_date', 'revenue', 'runtime',\n",
       "       'spoken_languages', 'status', 'tagline', 'title_x', 'vote_average',\n",
       "       'vote_count', 'title_y', 'cast', 'crew'],\n",
       "      dtype='object')"
      ]
     },
     "execution_count": 13,
     "metadata": {},
     "output_type": "execute_result"
    }
   ],
   "source": [
    "movies_data_merge.columns"
   ]
  },
  {
   "cell_type": "code",
   "execution_count": 14,
   "id": "f5a6c7d1",
   "metadata": {
    "execution": {
     "iopub.execute_input": "2023-07-11T15:14:21.527028Z",
     "iopub.status.busy": "2023-07-11T15:14:21.526314Z",
     "iopub.status.idle": "2023-07-11T15:14:21.536508Z",
     "shell.execute_reply": "2023-07-11T15:14:21.534988Z"
    },
    "papermill": {
     "duration": 0.02359,
     "end_time": "2023-07-11T15:14:21.539662",
     "exception": false,
     "start_time": "2023-07-11T15:14:21.516072",
     "status": "completed"
    },
    "tags": []
   },
   "outputs": [],
   "source": [
    "movies_data_merge.drop(columns=[\"title_x\"],inplace=True)\n",
    "movies_data_merge.rename(columns={\"title_y\":\"title\"},inplace=True)"
   ]
  },
  {
   "cell_type": "code",
   "execution_count": 15,
   "id": "5d19b2f5",
   "metadata": {
    "execution": {
     "iopub.execute_input": "2023-07-11T15:14:21.560835Z",
     "iopub.status.busy": "2023-07-11T15:14:21.560407Z",
     "iopub.status.idle": "2023-07-11T15:14:21.567688Z",
     "shell.execute_reply": "2023-07-11T15:14:21.566481Z"
    },
    "papermill": {
     "duration": 0.020091,
     "end_time": "2023-07-11T15:14:21.570065",
     "exception": false,
     "start_time": "2023-07-11T15:14:21.549974",
     "status": "completed"
    },
    "tags": []
   },
   "outputs": [
    {
     "data": {
      "text/plain": [
       "Index(['budget', 'genres', 'homepage', 'id', 'keywords', 'original_language',\n",
       "       'original_title', 'overview', 'popularity', 'production_companies',\n",
       "       'production_countries', 'release_date', 'revenue', 'runtime',\n",
       "       'spoken_languages', 'status', 'tagline', 'vote_average', 'vote_count',\n",
       "       'title', 'cast', 'crew'],\n",
       "      dtype='object')"
      ]
     },
     "execution_count": 15,
     "metadata": {},
     "output_type": "execute_result"
    }
   ],
   "source": [
    "movies_data_merge.columns"
   ]
  },
  {
   "cell_type": "code",
   "execution_count": 16,
   "id": "129cf871",
   "metadata": {
    "execution": {
     "iopub.execute_input": "2023-07-11T15:14:21.590359Z",
     "iopub.status.busy": "2023-07-11T15:14:21.589970Z",
     "iopub.status.idle": "2023-07-11T15:14:21.628588Z",
     "shell.execute_reply": "2023-07-11T15:14:21.626986Z"
    },
    "papermill": {
     "duration": 0.05233,
     "end_time": "2023-07-11T15:14:21.631828",
     "exception": false,
     "start_time": "2023-07-11T15:14:21.579498",
     "status": "completed"
    },
    "tags": []
   },
   "outputs": [
    {
     "name": "stdout",
     "output_type": "stream",
     "text": [
      "<class 'pandas.core.frame.DataFrame'>\n",
      "Int64Index: 4803 entries, 0 to 4802\n",
      "Data columns (total 19 columns):\n",
      " #   Column                Non-Null Count  Dtype  \n",
      "---  ------                --------------  -----  \n",
      " 0   budget                4803 non-null   int64  \n",
      " 1   genres                4803 non-null   object \n",
      " 2   id                    4803 non-null   int64  \n",
      " 3   keywords              4803 non-null   object \n",
      " 4   original_language     4803 non-null   object \n",
      " 5   original_title        4803 non-null   object \n",
      " 6   overview              4800 non-null   object \n",
      " 7   popularity            4803 non-null   float64\n",
      " 8   production_countries  4803 non-null   object \n",
      " 9   release_date          4802 non-null   object \n",
      " 10  revenue               4803 non-null   int64  \n",
      " 11  runtime               4801 non-null   float64\n",
      " 12  spoken_languages      4803 non-null   object \n",
      " 13  tagline               3959 non-null   object \n",
      " 14  vote_average          4803 non-null   float64\n",
      " 15  vote_count            4803 non-null   int64  \n",
      " 16  title                 4803 non-null   object \n",
      " 17  cast                  4803 non-null   object \n",
      " 18  crew                  4803 non-null   object \n",
      "dtypes: float64(3), int64(4), object(12)\n",
      "memory usage: 750.5+ KB\n"
     ]
    }
   ],
   "source": [
    "movies_cleaned_df=movies_data_merge.drop(columns=[\"homepage\",\"status\",\"production_companies\"])\n",
    "movies_cleaned_df.info()"
   ]
  },
  {
   "cell_type": "code",
   "execution_count": 17,
   "id": "54cc406c",
   "metadata": {
    "execution": {
     "iopub.execute_input": "2023-07-11T15:14:21.653768Z",
     "iopub.status.busy": "2023-07-11T15:14:21.653104Z",
     "iopub.status.idle": "2023-07-11T15:14:21.659558Z",
     "shell.execute_reply": "2023-07-11T15:14:21.658427Z"
    },
    "papermill": {
     "duration": 0.019998,
     "end_time": "2023-07-11T15:14:21.661925",
     "exception": false,
     "start_time": "2023-07-11T15:14:21.641927",
     "status": "completed"
    },
    "tags": []
   },
   "outputs": [
    {
     "data": {
      "text/plain": [
       "Index(['budget', 'genres', 'id', 'keywords', 'original_language',\n",
       "       'original_title', 'overview', 'popularity', 'production_countries',\n",
       "       'release_date', 'revenue', 'runtime', 'spoken_languages', 'tagline',\n",
       "       'vote_average', 'vote_count', 'title', 'cast', 'crew'],\n",
       "      dtype='object')"
      ]
     },
     "execution_count": 17,
     "metadata": {},
     "output_type": "execute_result"
    }
   ],
   "source": [
    "movies_cleaned_df.columns"
   ]
  },
  {
   "cell_type": "markdown",
   "id": "1fab8746",
   "metadata": {
    "papermill": {
     "duration": 0.008857,
     "end_time": "2023-07-11T15:14:21.680251",
     "exception": false,
     "start_time": "2023-07-11T15:14:21.671394",
     "status": "completed"
    },
    "tags": []
   },
   "source": [
    "# Applying the weighted average technique for each movie's average rating"
   ]
  },
  {
   "cell_type": "code",
   "execution_count": 18,
   "id": "047af648",
   "metadata": {
    "execution": {
     "iopub.execute_input": "2023-07-11T15:14:21.700555Z",
     "iopub.status.busy": "2023-07-11T15:14:21.699922Z",
     "iopub.status.idle": "2023-07-11T15:14:21.709060Z",
     "shell.execute_reply": "2023-07-11T15:14:21.707912Z"
    },
    "papermill": {
     "duration": 0.022461,
     "end_time": "2023-07-11T15:14:21.711727",
     "exception": false,
     "start_time": "2023-07-11T15:14:21.689266",
     "status": "completed"
    },
    "tags": []
   },
   "outputs": [],
   "source": [
    "v=movies_cleaned_df[\"vote_count\"]\n",
    "R=movies_cleaned_df[\"vote_average\"]\n",
    "c=movies_cleaned_df[\"vote_average\"].mean()\n",
    "m=movies_cleaned_df[\"vote_average\"].quantile(0.7)"
   ]
  },
  {
   "cell_type": "code",
   "execution_count": 19,
   "id": "d5b591b0",
   "metadata": {
    "execution": {
     "iopub.execute_input": "2023-07-11T15:14:21.732517Z",
     "iopub.status.busy": "2023-07-11T15:14:21.732124Z",
     "iopub.status.idle": "2023-07-11T15:14:21.740363Z",
     "shell.execute_reply": "2023-07-11T15:14:21.738830Z"
    },
    "papermill": {
     "duration": 0.021271,
     "end_time": "2023-07-11T15:14:21.742658",
     "exception": false,
     "start_time": "2023-07-11T15:14:21.721387",
     "status": "completed"
    },
    "tags": []
   },
   "outputs": [],
   "source": [
    "movies_cleaned_df[\"weighted_average\"]=((R*v)+(c*m))/(v+m)"
   ]
  },
  {
   "cell_type": "code",
   "execution_count": 20,
   "id": "bceac9a9",
   "metadata": {
    "execution": {
     "iopub.execute_input": "2023-07-11T15:14:21.764251Z",
     "iopub.status.busy": "2023-07-11T15:14:21.763593Z",
     "iopub.status.idle": "2023-07-11T15:14:21.784405Z",
     "shell.execute_reply": "2023-07-11T15:14:21.783604Z"
    },
    "papermill": {
     "duration": 0.033461,
     "end_time": "2023-07-11T15:14:21.786622",
     "exception": false,
     "start_time": "2023-07-11T15:14:21.753161",
     "status": "completed"
    },
    "tags": []
   },
   "outputs": [
    {
     "data": {
      "text/html": [
       "<div>\n",
       "<style scoped>\n",
       "    .dataframe tbody tr th:only-of-type {\n",
       "        vertical-align: middle;\n",
       "    }\n",
       "\n",
       "    .dataframe tbody tr th {\n",
       "        vertical-align: top;\n",
       "    }\n",
       "\n",
       "    .dataframe thead th {\n",
       "        text-align: right;\n",
       "    }\n",
       "</style>\n",
       "<table border=\"1\" class=\"dataframe\">\n",
       "  <thead>\n",
       "    <tr style=\"text-align: right;\">\n",
       "      <th></th>\n",
       "      <th>budget</th>\n",
       "      <th>genres</th>\n",
       "      <th>id</th>\n",
       "      <th>keywords</th>\n",
       "      <th>original_language</th>\n",
       "      <th>original_title</th>\n",
       "      <th>overview</th>\n",
       "      <th>popularity</th>\n",
       "      <th>production_countries</th>\n",
       "      <th>release_date</th>\n",
       "      <th>revenue</th>\n",
       "      <th>runtime</th>\n",
       "      <th>spoken_languages</th>\n",
       "      <th>tagline</th>\n",
       "      <th>vote_average</th>\n",
       "      <th>vote_count</th>\n",
       "      <th>title</th>\n",
       "      <th>cast</th>\n",
       "      <th>crew</th>\n",
       "      <th>weighted_average</th>\n",
       "    </tr>\n",
       "  </thead>\n",
       "  <tbody>\n",
       "    <tr>\n",
       "      <th>0</th>\n",
       "      <td>237000000</td>\n",
       "      <td>[{\"id\": 28, \"name\": \"Action\"}, {\"id\": 12, \"nam...</td>\n",
       "      <td>19995</td>\n",
       "      <td>[{\"id\": 1463, \"name\": \"culture clash\"}, {\"id\":...</td>\n",
       "      <td>en</td>\n",
       "      <td>Avatar</td>\n",
       "      <td>In the 22nd century, a paraplegic Marine is di...</td>\n",
       "      <td>150.437577</td>\n",
       "      <td>[{\"iso_3166_1\": \"US\", \"name\": \"United States o...</td>\n",
       "      <td>2009-12-10</td>\n",
       "      <td>2787965087</td>\n",
       "      <td>162.0</td>\n",
       "      <td>[{\"iso_639_1\": \"en\", \"name\": \"English\"}, {\"iso...</td>\n",
       "      <td>Enter the World of Pandora.</td>\n",
       "      <td>7.2</td>\n",
       "      <td>11800</td>\n",
       "      <td>Avatar</td>\n",
       "      <td>[{\"cast_id\": 242, \"character\": \"Jake Sully\", \"...</td>\n",
       "      <td>[{\"credit_id\": \"52fe48009251416c750aca23\", \"de...</td>\n",
       "      <td>7.199371</td>\n",
       "    </tr>\n",
       "    <tr>\n",
       "      <th>1</th>\n",
       "      <td>300000000</td>\n",
       "      <td>[{\"id\": 12, \"name\": \"Adventure\"}, {\"id\": 14, \"...</td>\n",
       "      <td>285</td>\n",
       "      <td>[{\"id\": 270, \"name\": \"ocean\"}, {\"id\": 726, \"na...</td>\n",
       "      <td>en</td>\n",
       "      <td>Pirates of the Caribbean: At World's End</td>\n",
       "      <td>Captain Barbossa, long believed to be dead, ha...</td>\n",
       "      <td>139.082615</td>\n",
       "      <td>[{\"iso_3166_1\": \"US\", \"name\": \"United States o...</td>\n",
       "      <td>2007-05-19</td>\n",
       "      <td>961000000</td>\n",
       "      <td>169.0</td>\n",
       "      <td>[{\"iso_639_1\": \"en\", \"name\": \"English\"}]</td>\n",
       "      <td>At the end of the world, the adventure begins.</td>\n",
       "      <td>6.9</td>\n",
       "      <td>4500</td>\n",
       "      <td>Pirates of the Caribbean: At World's End</td>\n",
       "      <td>[{\"cast_id\": 4, \"character\": \"Captain Jack Spa...</td>\n",
       "      <td>[{\"credit_id\": \"52fe4232c3a36847f800b579\", \"de...</td>\n",
       "      <td>6.898799</td>\n",
       "    </tr>\n",
       "  </tbody>\n",
       "</table>\n",
       "</div>"
      ],
      "text/plain": [
       "      budget                                             genres     id  \\\n",
       "0  237000000  [{\"id\": 28, \"name\": \"Action\"}, {\"id\": 12, \"nam...  19995   \n",
       "1  300000000  [{\"id\": 12, \"name\": \"Adventure\"}, {\"id\": 14, \"...    285   \n",
       "\n",
       "                                            keywords original_language  \\\n",
       "0  [{\"id\": 1463, \"name\": \"culture clash\"}, {\"id\":...                en   \n",
       "1  [{\"id\": 270, \"name\": \"ocean\"}, {\"id\": 726, \"na...                en   \n",
       "\n",
       "                             original_title  \\\n",
       "0                                    Avatar   \n",
       "1  Pirates of the Caribbean: At World's End   \n",
       "\n",
       "                                            overview  popularity  \\\n",
       "0  In the 22nd century, a paraplegic Marine is di...  150.437577   \n",
       "1  Captain Barbossa, long believed to be dead, ha...  139.082615   \n",
       "\n",
       "                                production_countries release_date     revenue  \\\n",
       "0  [{\"iso_3166_1\": \"US\", \"name\": \"United States o...   2009-12-10  2787965087   \n",
       "1  [{\"iso_3166_1\": \"US\", \"name\": \"United States o...   2007-05-19   961000000   \n",
       "\n",
       "   runtime                                   spoken_languages  \\\n",
       "0    162.0  [{\"iso_639_1\": \"en\", \"name\": \"English\"}, {\"iso...   \n",
       "1    169.0           [{\"iso_639_1\": \"en\", \"name\": \"English\"}]   \n",
       "\n",
       "                                          tagline  vote_average  vote_count  \\\n",
       "0                     Enter the World of Pandora.           7.2       11800   \n",
       "1  At the end of the world, the adventure begins.           6.9        4500   \n",
       "\n",
       "                                      title  \\\n",
       "0                                    Avatar   \n",
       "1  Pirates of the Caribbean: At World's End   \n",
       "\n",
       "                                                cast  \\\n",
       "0  [{\"cast_id\": 242, \"character\": \"Jake Sully\", \"...   \n",
       "1  [{\"cast_id\": 4, \"character\": \"Captain Jack Spa...   \n",
       "\n",
       "                                                crew  weighted_average  \n",
       "0  [{\"credit_id\": \"52fe48009251416c750aca23\", \"de...          7.199371  \n",
       "1  [{\"credit_id\": \"52fe4232c3a36847f800b579\", \"de...          6.898799  "
      ]
     },
     "execution_count": 20,
     "metadata": {},
     "output_type": "execute_result"
    }
   ],
   "source": [
    "movies_cleaned_df.head(2)"
   ]
  },
  {
   "cell_type": "code",
   "execution_count": 21,
   "id": "77a2c2b4",
   "metadata": {
    "execution": {
     "iopub.execute_input": "2023-07-11T15:14:21.807485Z",
     "iopub.status.busy": "2023-07-11T15:14:21.806827Z",
     "iopub.status.idle": "2023-07-11T15:14:21.834730Z",
     "shell.execute_reply": "2023-07-11T15:14:21.832923Z"
    },
    "papermill": {
     "duration": 0.041308,
     "end_time": "2023-07-11T15:14:21.837392",
     "exception": false,
     "start_time": "2023-07-11T15:14:21.796084",
     "status": "completed"
    },
    "tags": []
   },
   "outputs": [
    {
     "data": {
      "text/html": [
       "<div>\n",
       "<style scoped>\n",
       "    .dataframe tbody tr th:only-of-type {\n",
       "        vertical-align: middle;\n",
       "    }\n",
       "\n",
       "    .dataframe tbody tr th {\n",
       "        vertical-align: top;\n",
       "    }\n",
       "\n",
       "    .dataframe thead th {\n",
       "        text-align: right;\n",
       "    }\n",
       "</style>\n",
       "<table border=\"1\" class=\"dataframe\">\n",
       "  <thead>\n",
       "    <tr style=\"text-align: right;\">\n",
       "      <th></th>\n",
       "      <th>original_title</th>\n",
       "      <th>vote_count</th>\n",
       "      <th>vote_average</th>\n",
       "      <th>weighted_average</th>\n",
       "      <th>popularity</th>\n",
       "    </tr>\n",
       "  </thead>\n",
       "  <tbody>\n",
       "    <tr>\n",
       "      <th>1881</th>\n",
       "      <td>The Shawshank Redemption</td>\n",
       "      <td>8205</td>\n",
       "      <td>8.5</td>\n",
       "      <td>8.498035</td>\n",
       "      <td>136.747729</td>\n",
       "    </tr>\n",
       "    <tr>\n",
       "      <th>3337</th>\n",
       "      <td>The Godfather</td>\n",
       "      <td>5893</td>\n",
       "      <td>8.4</td>\n",
       "      <td>8.397379</td>\n",
       "      <td>143.659698</td>\n",
       "    </tr>\n",
       "    <tr>\n",
       "      <th>662</th>\n",
       "      <td>Fight Club</td>\n",
       "      <td>9413</td>\n",
       "      <td>8.3</td>\n",
       "      <td>8.298430</td>\n",
       "      <td>146.757391</td>\n",
       "    </tr>\n",
       "    <tr>\n",
       "      <th>3232</th>\n",
       "      <td>Pulp Fiction</td>\n",
       "      <td>8428</td>\n",
       "      <td>8.3</td>\n",
       "      <td>8.298246</td>\n",
       "      <td>121.463076</td>\n",
       "    </tr>\n",
       "    <tr>\n",
       "      <th>1818</th>\n",
       "      <td>Schindler's List</td>\n",
       "      <td>4329</td>\n",
       "      <td>8.3</td>\n",
       "      <td>8.296588</td>\n",
       "      <td>104.469351</td>\n",
       "    </tr>\n",
       "    <tr>\n",
       "      <th>3865</th>\n",
       "      <td>Whiplash</td>\n",
       "      <td>4254</td>\n",
       "      <td>8.3</td>\n",
       "      <td>8.296528</td>\n",
       "      <td>192.528841</td>\n",
       "    </tr>\n",
       "    <tr>\n",
       "      <th>2294</th>\n",
       "      <td>千と千尋の神隠し</td>\n",
       "      <td>3840</td>\n",
       "      <td>8.3</td>\n",
       "      <td>8.296155</td>\n",
       "      <td>118.968562</td>\n",
       "    </tr>\n",
       "    <tr>\n",
       "      <th>2731</th>\n",
       "      <td>The Godfather: Part II</td>\n",
       "      <td>3338</td>\n",
       "      <td>8.3</td>\n",
       "      <td>8.295577</td>\n",
       "      <td>105.792936</td>\n",
       "    </tr>\n",
       "    <tr>\n",
       "      <th>65</th>\n",
       "      <td>The Dark Knight</td>\n",
       "      <td>12002</td>\n",
       "      <td>8.2</td>\n",
       "      <td>8.198824</td>\n",
       "      <td>187.322927</td>\n",
       "    </tr>\n",
       "    <tr>\n",
       "      <th>809</th>\n",
       "      <td>Forrest Gump</td>\n",
       "      <td>7927</td>\n",
       "      <td>8.2</td>\n",
       "      <td>8.198220</td>\n",
       "      <td>138.133331</td>\n",
       "    </tr>\n",
       "    <tr>\n",
       "      <th>1990</th>\n",
       "      <td>The Empire Strikes Back</td>\n",
       "      <td>5879</td>\n",
       "      <td>8.2</td>\n",
       "      <td>8.197601</td>\n",
       "      <td>78.517830</td>\n",
       "    </tr>\n",
       "    <tr>\n",
       "      <th>690</th>\n",
       "      <td>The Green Mile</td>\n",
       "      <td>4048</td>\n",
       "      <td>8.2</td>\n",
       "      <td>8.196517</td>\n",
       "      <td>103.698022</td>\n",
       "    </tr>\n",
       "    <tr>\n",
       "      <th>1847</th>\n",
       "      <td>GoodFellas</td>\n",
       "      <td>3128</td>\n",
       "      <td>8.2</td>\n",
       "      <td>8.195495</td>\n",
       "      <td>63.654244</td>\n",
       "    </tr>\n",
       "    <tr>\n",
       "      <th>3057</th>\n",
       "      <td>American History X</td>\n",
       "      <td>3016</td>\n",
       "      <td>8.2</td>\n",
       "      <td>8.195328</td>\n",
       "      <td>73.567232</td>\n",
       "    </tr>\n",
       "    <tr>\n",
       "      <th>3719</th>\n",
       "      <td>One Flew Over the Cuckoo's Nest</td>\n",
       "      <td>2919</td>\n",
       "      <td>8.2</td>\n",
       "      <td>8.195173</td>\n",
       "      <td>127.525581</td>\n",
       "    </tr>\n",
       "    <tr>\n",
       "      <th>2170</th>\n",
       "      <td>Psycho</td>\n",
       "      <td>2320</td>\n",
       "      <td>8.2</td>\n",
       "      <td>8.193930</td>\n",
       "      <td>93.067866</td>\n",
       "    </tr>\n",
       "    <tr>\n",
       "      <th>4602</th>\n",
       "      <td>12 Angry Men</td>\n",
       "      <td>2078</td>\n",
       "      <td>8.2</td>\n",
       "      <td>8.193226</td>\n",
       "      <td>59.259204</td>\n",
       "    </tr>\n",
       "    <tr>\n",
       "      <th>1987</th>\n",
       "      <td>ハウルの動く城</td>\n",
       "      <td>1991</td>\n",
       "      <td>8.2</td>\n",
       "      <td>8.192931</td>\n",
       "      <td>49.549984</td>\n",
       "    </tr>\n",
       "    <tr>\n",
       "      <th>2247</th>\n",
       "      <td>もののけ姫</td>\n",
       "      <td>1983</td>\n",
       "      <td>8.2</td>\n",
       "      <td>8.192902</td>\n",
       "      <td>60.732738</td>\n",
       "    </tr>\n",
       "    <tr>\n",
       "      <th>1663</th>\n",
       "      <td>Once Upon a Time in America</td>\n",
       "      <td>1069</td>\n",
       "      <td>8.2</td>\n",
       "      <td>8.186871</td>\n",
       "      <td>49.336397</td>\n",
       "    </tr>\n",
       "  </tbody>\n",
       "</table>\n",
       "</div>"
      ],
      "text/plain": [
       "                       original_title  vote_count  vote_average  \\\n",
       "1881         The Shawshank Redemption        8205           8.5   \n",
       "3337                    The Godfather        5893           8.4   \n",
       "662                        Fight Club        9413           8.3   \n",
       "3232                     Pulp Fiction        8428           8.3   \n",
       "1818                 Schindler's List        4329           8.3   \n",
       "3865                         Whiplash        4254           8.3   \n",
       "2294                         千と千尋の神隠し        3840           8.3   \n",
       "2731           The Godfather: Part II        3338           8.3   \n",
       "65                    The Dark Knight       12002           8.2   \n",
       "809                      Forrest Gump        7927           8.2   \n",
       "1990          The Empire Strikes Back        5879           8.2   \n",
       "690                    The Green Mile        4048           8.2   \n",
       "1847                       GoodFellas        3128           8.2   \n",
       "3057               American History X        3016           8.2   \n",
       "3719  One Flew Over the Cuckoo's Nest        2919           8.2   \n",
       "2170                           Psycho        2320           8.2   \n",
       "4602                     12 Angry Men        2078           8.2   \n",
       "1987                          ハウルの動く城        1991           8.2   \n",
       "2247                            もののけ姫        1983           8.2   \n",
       "1663      Once Upon a Time in America        1069           8.2   \n",
       "\n",
       "      weighted_average  popularity  \n",
       "1881          8.498035  136.747729  \n",
       "3337          8.397379  143.659698  \n",
       "662           8.298430  146.757391  \n",
       "3232          8.298246  121.463076  \n",
       "1818          8.296588  104.469351  \n",
       "3865          8.296528  192.528841  \n",
       "2294          8.296155  118.968562  \n",
       "2731          8.295577  105.792936  \n",
       "65            8.198824  187.322927  \n",
       "809           8.198220  138.133331  \n",
       "1990          8.197601   78.517830  \n",
       "690           8.196517  103.698022  \n",
       "1847          8.195495   63.654244  \n",
       "3057          8.195328   73.567232  \n",
       "3719          8.195173  127.525581  \n",
       "2170          8.193930   93.067866  \n",
       "4602          8.193226   59.259204  \n",
       "1987          8.192931   49.549984  \n",
       "2247          8.192902   60.732738  \n",
       "1663          8.186871   49.336397  "
      ]
     },
     "execution_count": 21,
     "metadata": {},
     "output_type": "execute_result"
    }
   ],
   "source": [
    "movie_sorted_ranking=movies_cleaned_df.sort_values(\"weighted_average\",ascending=False)\n",
    "movie_sorted_ranking[['original_title', 'vote_count', 'vote_average', 'weighted_average', 'popularity']].head(20)"
   ]
  },
  {
   "cell_type": "code",
   "execution_count": 22,
   "id": "391f3310",
   "metadata": {
    "execution": {
     "iopub.execute_input": "2023-07-11T15:14:21.859471Z",
     "iopub.status.busy": "2023-07-11T15:14:21.859079Z",
     "iopub.status.idle": "2023-07-11T15:14:22.327854Z",
     "shell.execute_reply": "2023-07-11T15:14:22.326605Z"
    },
    "papermill": {
     "duration": 0.482793,
     "end_time": "2023-07-11T15:14:22.330609",
     "exception": false,
     "start_time": "2023-07-11T15:14:21.847816",
     "status": "completed"
    },
    "tags": []
   },
   "outputs": [
    {
     "data": {
      "text/plain": [
       "Text(0, 0.5, 'Movie Title')"
      ]
     },
     "execution_count": 22,
     "metadata": {},
     "output_type": "execute_result"
    },
    {
     "data": {
      "image/png": "[encoded data removed]",
      "text/plain": [
       "<Figure size 1200x600 with 1 Axes>"
      ]
     },
     "metadata": {},
     "output_type": "display_data"
    }
   ],
   "source": [
    "import matplotlib.pyplot as plt\n",
    "import seaborn as sns\n",
    "\n",
    "weight_average=movie_sorted_ranking.sort_values('weighted_average',ascending=False)\n",
    "plt.figure(figsize=(12,6))\n",
    "axis1=sns.barplot(x=weight_average['weighted_average'].head(10), y=weight_average['original_title'].head(10), data=weight_average)\n",
    "plt.xlim(4, 10)\n",
    "plt.title('Best Movies by average votes', weight='bold')\n",
    "plt.xlabel('Weighted Average Score', weight='bold')\n",
    "plt.ylabel('Movie Title', weight='bold')"
   ]
  },
  {
   "cell_type": "code",
   "execution_count": 23,
   "id": "81b5daec",
   "metadata": {
    "execution": {
     "iopub.execute_input": "2023-07-11T15:14:22.354818Z",
     "iopub.status.busy": "2023-07-11T15:14:22.354422Z",
     "iopub.status.idle": "2023-07-11T15:14:22.378661Z",
     "shell.execute_reply": "2023-07-11T15:14:22.377419Z"
    },
    "papermill": {
     "duration": 0.039074,
     "end_time": "2023-07-11T15:14:22.381486",
     "exception": false,
     "start_time": "2023-07-11T15:14:22.342412",
     "status": "completed"
    },
    "tags": []
   },
   "outputs": [
    {
     "data": {
      "text/html": [
       "<div>\n",
       "<style scoped>\n",
       "    .dataframe tbody tr th:only-of-type {\n",
       "        vertical-align: middle;\n",
       "    }\n",
       "\n",
       "    .dataframe tbody tr th {\n",
       "        vertical-align: top;\n",
       "    }\n",
       "\n",
       "    .dataframe thead th {\n",
       "        text-align: right;\n",
       "    }\n",
       "</style>\n",
       "<table border=\"1\" class=\"dataframe\">\n",
       "  <thead>\n",
       "    <tr style=\"text-align: right;\">\n",
       "      <th></th>\n",
       "      <th>original_title</th>\n",
       "      <th>vote_count</th>\n",
       "      <th>vote_average</th>\n",
       "      <th>weighted_average</th>\n",
       "      <th>popularity</th>\n",
       "    </tr>\n",
       "  </thead>\n",
       "  <tbody>\n",
       "    <tr>\n",
       "      <th>546</th>\n",
       "      <td>Minions</td>\n",
       "      <td>4571</td>\n",
       "      <td>6.4</td>\n",
       "      <td>6.399549</td>\n",
       "      <td>875.581305</td>\n",
       "    </tr>\n",
       "    <tr>\n",
       "      <th>95</th>\n",
       "      <td>Interstellar</td>\n",
       "      <td>10867</td>\n",
       "      <td>8.1</td>\n",
       "      <td>8.098763</td>\n",
       "      <td>724.247784</td>\n",
       "    </tr>\n",
       "    <tr>\n",
       "      <th>788</th>\n",
       "      <td>Deadpool</td>\n",
       "      <td>10995</td>\n",
       "      <td>7.4</td>\n",
       "      <td>7.399204</td>\n",
       "      <td>514.569956</td>\n",
       "    </tr>\n",
       "    <tr>\n",
       "      <th>94</th>\n",
       "      <td>Guardians of the Galaxy</td>\n",
       "      <td>9742</td>\n",
       "      <td>7.9</td>\n",
       "      <td>7.898758</td>\n",
       "      <td>481.098624</td>\n",
       "    </tr>\n",
       "    <tr>\n",
       "      <th>127</th>\n",
       "      <td>Mad Max: Fury Road</td>\n",
       "      <td>9427</td>\n",
       "      <td>7.2</td>\n",
       "      <td>7.199213</td>\n",
       "      <td>434.278564</td>\n",
       "    </tr>\n",
       "    <tr>\n",
       "      <th>28</th>\n",
       "      <td>Jurassic World</td>\n",
       "      <td>8662</td>\n",
       "      <td>6.5</td>\n",
       "      <td>6.499685</td>\n",
       "      <td>418.708552</td>\n",
       "    </tr>\n",
       "    <tr>\n",
       "      <th>199</th>\n",
       "      <td>Pirates of the Caribbean: The Curse of the Bla...</td>\n",
       "      <td>6985</td>\n",
       "      <td>7.5</td>\n",
       "      <td>7.498651</td>\n",
       "      <td>271.972889</td>\n",
       "    </tr>\n",
       "    <tr>\n",
       "      <th>82</th>\n",
       "      <td>Dawn of the Planet of the Apes</td>\n",
       "      <td>4410</td>\n",
       "      <td>7.3</td>\n",
       "      <td>7.298168</td>\n",
       "      <td>243.791743</td>\n",
       "    </tr>\n",
       "    <tr>\n",
       "      <th>200</th>\n",
       "      <td>The Hunger Games: Mockingjay - Part 1</td>\n",
       "      <td>5584</td>\n",
       "      <td>6.6</td>\n",
       "      <td>6.599391</td>\n",
       "      <td>206.227151</td>\n",
       "    </tr>\n",
       "    <tr>\n",
       "      <th>88</th>\n",
       "      <td>Big Hero 6</td>\n",
       "      <td>6135</td>\n",
       "      <td>7.8</td>\n",
       "      <td>7.798137</td>\n",
       "      <td>203.734590</td>\n",
       "    </tr>\n",
       "    <tr>\n",
       "      <th>108</th>\n",
       "      <td>Terminator Genisys</td>\n",
       "      <td>3631</td>\n",
       "      <td>5.8</td>\n",
       "      <td>5.800538</td>\n",
       "      <td>202.042635</td>\n",
       "    </tr>\n",
       "    <tr>\n",
       "      <th>26</th>\n",
       "      <td>Captain America: Civil War</td>\n",
       "      <td>7241</td>\n",
       "      <td>7.1</td>\n",
       "      <td>7.099068</td>\n",
       "      <td>198.372395</td>\n",
       "    </tr>\n",
       "    <tr>\n",
       "      <th>3865</th>\n",
       "      <td>Whiplash</td>\n",
       "      <td>4254</td>\n",
       "      <td>8.3</td>\n",
       "      <td>8.296528</td>\n",
       "      <td>192.528841</td>\n",
       "    </tr>\n",
       "    <tr>\n",
       "      <th>65</th>\n",
       "      <td>The Dark Knight</td>\n",
       "      <td>12002</td>\n",
       "      <td>8.2</td>\n",
       "      <td>8.198824</td>\n",
       "      <td>187.322927</td>\n",
       "    </tr>\n",
       "    <tr>\n",
       "      <th>270</th>\n",
       "      <td>The Martian</td>\n",
       "      <td>7268</td>\n",
       "      <td>7.6</td>\n",
       "      <td>7.598611</td>\n",
       "      <td>167.932870</td>\n",
       "    </tr>\n",
       "    <tr>\n",
       "      <th>96</th>\n",
       "      <td>Inception</td>\n",
       "      <td>13752</td>\n",
       "      <td>8.1</td>\n",
       "      <td>8.099022</td>\n",
       "      <td>167.583710</td>\n",
       "    </tr>\n",
       "    <tr>\n",
       "      <th>124</th>\n",
       "      <td>Frozen</td>\n",
       "      <td>5295</td>\n",
       "      <td>7.3</td>\n",
       "      <td>7.298474</td>\n",
       "      <td>165.125366</td>\n",
       "    </tr>\n",
       "    <tr>\n",
       "      <th>9</th>\n",
       "      <td>Batman v Superman: Dawn of Justice</td>\n",
       "      <td>7004</td>\n",
       "      <td>5.7</td>\n",
       "      <td>5.700375</td>\n",
       "      <td>155.790452</td>\n",
       "    </tr>\n",
       "    <tr>\n",
       "      <th>0</th>\n",
       "      <td>Avatar</td>\n",
       "      <td>11800</td>\n",
       "      <td>7.2</td>\n",
       "      <td>7.199371</td>\n",
       "      <td>150.437577</td>\n",
       "    </tr>\n",
       "    <tr>\n",
       "      <th>662</th>\n",
       "      <td>Fight Club</td>\n",
       "      <td>9413</td>\n",
       "      <td>8.3</td>\n",
       "      <td>8.298430</td>\n",
       "      <td>146.757391</td>\n",
       "    </tr>\n",
       "  </tbody>\n",
       "</table>\n",
       "</div>"
      ],
      "text/plain": [
       "                                         original_title  vote_count  \\\n",
       "546                                             Minions        4571   \n",
       "95                                         Interstellar       10867   \n",
       "788                                            Deadpool       10995   \n",
       "94                              Guardians of the Galaxy        9742   \n",
       "127                                  Mad Max: Fury Road        9427   \n",
       "28                                       Jurassic World        8662   \n",
       "199   Pirates of the Caribbean: The Curse of the Bla...        6985   \n",
       "82                       Dawn of the Planet of the Apes        4410   \n",
       "200               The Hunger Games: Mockingjay - Part 1        5584   \n",
       "88                                           Big Hero 6        6135   \n",
       "108                                  Terminator Genisys        3631   \n",
       "26                           Captain America: Civil War        7241   \n",
       "3865                                           Whiplash        4254   \n",
       "65                                      The Dark Knight       12002   \n",
       "270                                         The Martian        7268   \n",
       "96                                            Inception       13752   \n",
       "124                                              Frozen        5295   \n",
       "9                    Batman v Superman: Dawn of Justice        7004   \n",
       "0                                                Avatar       11800   \n",
       "662                                          Fight Club        9413   \n",
       "\n",
       "      vote_average  weighted_average  popularity  \n",
       "546            6.4          6.399549  875.581305  \n",
       "95             8.1          8.098763  724.247784  \n",
       "788            7.4          7.399204  514.569956  \n",
       "94             7.9          7.898758  481.098624  \n",
       "127            7.2          7.199213  434.278564  \n",
       "28             6.5          6.499685  418.708552  \n",
       "199            7.5          7.498651  271.972889  \n",
       "82             7.3          7.298168  243.791743  \n",
       "200            6.6          6.599391  206.227151  \n",
       "88             7.8          7.798137  203.734590  \n",
       "108            5.8          5.800538  202.042635  \n",
       "26             7.1          7.099068  198.372395  \n",
       "3865           8.3          8.296528  192.528841  \n",
       "65             8.2          8.198824  187.322927  \n",
       "270            7.6          7.598611  167.932870  \n",
       "96             8.1          8.099022  167.583710  \n",
       "124            7.3          7.298474  165.125366  \n",
       "9              5.7          5.700375  155.790452  \n",
       "0              7.2          7.199371  150.437577  \n",
       "662            8.3          8.298430  146.757391  "
      ]
     },
     "execution_count": 23,
     "metadata": {},
     "output_type": "execute_result"
    }
   ],
   "source": [
    "popularity_movie=movie_sorted_ranking.sort_values(\"popularity\",ascending=False)\n",
    "popularity_movie[['original_title', 'vote_count', 'vote_average', 'weighted_average', 'popularity']].head(20)"
   ]
  },
  {
   "cell_type": "code",
   "execution_count": 24,
   "id": "6899c9c8",
   "metadata": {
    "execution": {
     "iopub.execute_input": "2023-07-11T15:14:22.407607Z",
     "iopub.status.busy": "2023-07-11T15:14:22.407235Z",
     "iopub.status.idle": "2023-07-11T15:14:22.931313Z",
     "shell.execute_reply": "2023-07-11T15:14:22.929880Z"
    },
    "papermill": {
     "duration": 0.540931,
     "end_time": "2023-07-11T15:14:22.934398",
     "exception": false,
     "start_time": "2023-07-11T15:14:22.393467",
     "status": "completed"
    },
    "tags": []
   },
   "outputs": [
    {
     "data": {
      "image/png": "[encoded data removed]",
      "text/plain": [
       "<Figure size 1200x600 with 1 Axes>"
      ]
     },
     "metadata": {},
     "output_type": "display_data"
    }
   ],
   "source": [
    "popularity=movie_sorted_ranking.sort_values('popularity',ascending=False)\n",
    "plt.figure(figsize=(12,6))\n",
    "ax=sns.barplot(x=popularity['popularity'].head(10), y=popularity['original_title'].head(10), data=popularity)\n",
    "\n",
    "plt.title('Most Popular by Votes', weight='bold')\n",
    "plt.xlabel('Score of Popularity', weight='bold')\n",
    "plt.ylabel('Movie Title', weight='bold')\n",
    "plt.savefig('best_popular_movies.png')"
   ]
  },
  {
   "cell_type": "markdown",
   "id": "6d1b6009",
   "metadata": {
    "papermill": {
     "duration": 0.011569,
     "end_time": "2023-07-11T15:14:22.959283",
     "exception": false,
     "start_time": "2023-07-11T15:14:22.947714",
     "status": "completed"
    },
    "tags": []
   },
   "source": []
  },
  {
   "cell_type": "code",
   "execution_count": 25,
   "id": "462c133c",
   "metadata": {
    "execution": {
     "iopub.execute_input": "2023-07-11T15:14:22.984957Z",
     "iopub.status.busy": "2023-07-11T15:14:22.984557Z",
     "iopub.status.idle": "2023-07-11T15:14:23.166252Z",
     "shell.execute_reply": "2023-07-11T15:14:23.165085Z"
    },
    "papermill": {
     "duration": 0.197658,
     "end_time": "2023-07-11T15:14:23.168816",
     "exception": false,
     "start_time": "2023-07-11T15:14:22.971158",
     "status": "completed"
    },
    "tags": []
   },
   "outputs": [],
   "source": [
    "from sklearn.preprocessing import MinMaxScaler"
   ]
  },
  {
   "cell_type": "code",
   "execution_count": 26,
   "id": "dd3e7fc7",
   "metadata": {
    "execution": {
     "iopub.execute_input": "2023-07-11T15:14:23.195713Z",
     "iopub.status.busy": "2023-07-11T15:14:23.195326Z",
     "iopub.status.idle": "2023-07-11T15:14:23.215643Z",
     "shell.execute_reply": "2023-07-11T15:14:23.214371Z"
    },
    "papermill": {
     "duration": 0.036224,
     "end_time": "2023-07-11T15:14:23.218003",
     "exception": false,
     "start_time": "2023-07-11T15:14:23.181779",
     "status": "completed"
    },
    "tags": []
   },
   "outputs": [
    {
     "data": {
      "text/html": [
       "<div>\n",
       "<style scoped>\n",
       "    .dataframe tbody tr th:only-of-type {\n",
       "        vertical-align: middle;\n",
       "    }\n",
       "\n",
       "    .dataframe tbody tr th {\n",
       "        vertical-align: top;\n",
       "    }\n",
       "\n",
       "    .dataframe thead th {\n",
       "        text-align: right;\n",
       "    }\n",
       "</style>\n",
       "<table border=\"1\" class=\"dataframe\">\n",
       "  <thead>\n",
       "    <tr style=\"text-align: right;\">\n",
       "      <th></th>\n",
       "      <th>Scaled_weighted_average</th>\n",
       "      <th>Scaled_popularity</th>\n",
       "    </tr>\n",
       "  </thead>\n",
       "  <tbody>\n",
       "    <tr>\n",
       "      <th>0</th>\n",
       "      <td>0.780797</td>\n",
       "      <td>0.171815</td>\n",
       "    </tr>\n",
       "    <tr>\n",
       "      <th>1</th>\n",
       "      <td>0.730063</td>\n",
       "      <td>0.158846</td>\n",
       "    </tr>\n",
       "    <tr>\n",
       "      <th>2</th>\n",
       "      <td>0.628938</td>\n",
       "      <td>0.122635</td>\n",
       "    </tr>\n",
       "    <tr>\n",
       "      <th>3</th>\n",
       "      <td>0.848232</td>\n",
       "      <td>0.128272</td>\n",
       "    </tr>\n",
       "    <tr>\n",
       "      <th>4</th>\n",
       "      <td>0.595228</td>\n",
       "      <td>0.050169</td>\n",
       "    </tr>\n",
       "  </tbody>\n",
       "</table>\n",
       "</div>"
      ],
      "text/plain": [
       "   Scaled_weighted_average  Scaled_popularity\n",
       "0                 0.780797           0.171815\n",
       "1                 0.730063           0.158846\n",
       "2                 0.628938           0.122635\n",
       "3                 0.848232           0.128272\n",
       "4                 0.595228           0.050169"
      ]
     },
     "execution_count": 26,
     "metadata": {},
     "output_type": "execute_result"
    }
   ],
   "source": [
    "scaling=MinMaxScaler()\n",
    "scaled_data=scaling.fit_transform(movies_cleaned_df[[\"weighted_average\",\"popularity\"]])\n",
    "movie_normalized_df=pd.DataFrame(scaled_data,columns=[\"Scaled_weighted_average\",\"Scaled_popularity\"])\n",
    "movie_normalized_df.head(5)"
   ]
  },
  {
   "cell_type": "code",
   "execution_count": 27,
   "id": "53512894",
   "metadata": {
    "execution": {
     "iopub.execute_input": "2023-07-11T15:14:23.245242Z",
     "iopub.status.busy": "2023-07-11T15:14:23.244825Z",
     "iopub.status.idle": "2023-07-11T15:14:23.251903Z",
     "shell.execute_reply": "2023-07-11T15:14:23.250505Z"
    },
    "papermill": {
     "duration": 0.022925,
     "end_time": "2023-07-11T15:14:23.254415",
     "exception": false,
     "start_time": "2023-07-11T15:14:23.231490",
     "status": "completed"
    },
    "tags": []
   },
   "outputs": [],
   "source": [
    "movies_cleaned_df[[\"Scaled_weighted_average\",\"Scaled_popularity\"]]=movie_normalized_df"
   ]
  },
  {
   "cell_type": "code",
   "execution_count": 28,
   "id": "218833d6",
   "metadata": {
    "execution": {
     "iopub.execute_input": "2023-07-11T15:14:23.280425Z",
     "iopub.status.busy": "2023-07-11T15:14:23.280068Z",
     "iopub.status.idle": "2023-07-11T15:14:23.305947Z",
     "shell.execute_reply": "2023-07-11T15:14:23.304877Z"
    },
    "papermill": {
     "duration": 0.041602,
     "end_time": "2023-07-11T15:14:23.308212",
     "exception": false,
     "start_time": "2023-07-11T15:14:23.266610",
     "status": "completed"
    },
    "tags": []
   },
   "outputs": [
    {
     "data": {
      "text/html": [
       "<div>\n",
       "<style scoped>\n",
       "    .dataframe tbody tr th:only-of-type {\n",
       "        vertical-align: middle;\n",
       "    }\n",
       "\n",
       "    .dataframe tbody tr th {\n",
       "        vertical-align: top;\n",
       "    }\n",
       "\n",
       "    .dataframe thead th {\n",
       "        text-align: right;\n",
       "    }\n",
       "</style>\n",
       "<table border=\"1\" class=\"dataframe\">\n",
       "  <thead>\n",
       "    <tr style=\"text-align: right;\">\n",
       "      <th></th>\n",
       "      <th>budget</th>\n",
       "      <th>genres</th>\n",
       "      <th>id</th>\n",
       "      <th>keywords</th>\n",
       "      <th>original_language</th>\n",
       "      <th>original_title</th>\n",
       "      <th>overview</th>\n",
       "      <th>popularity</th>\n",
       "      <th>production_countries</th>\n",
       "      <th>release_date</th>\n",
       "      <th>...</th>\n",
       "      <th>spoken_languages</th>\n",
       "      <th>tagline</th>\n",
       "      <th>vote_average</th>\n",
       "      <th>vote_count</th>\n",
       "      <th>title</th>\n",
       "      <th>cast</th>\n",
       "      <th>crew</th>\n",
       "      <th>weighted_average</th>\n",
       "      <th>Scaled_weighted_average</th>\n",
       "      <th>Scaled_popularity</th>\n",
       "    </tr>\n",
       "  </thead>\n",
       "  <tbody>\n",
       "    <tr>\n",
       "      <th>0</th>\n",
       "      <td>237000000</td>\n",
       "      <td>[{\"id\": 28, \"name\": \"Action\"}, {\"id\": 12, \"nam...</td>\n",
       "      <td>19995</td>\n",
       "      <td>[{\"id\": 1463, \"name\": \"culture clash\"}, {\"id\":...</td>\n",
       "      <td>en</td>\n",
       "      <td>Avatar</td>\n",
       "      <td>In the 22nd century, a paraplegic Marine is di...</td>\n",
       "      <td>150.437577</td>\n",
       "      <td>[{\"iso_3166_1\": \"US\", \"name\": \"United States o...</td>\n",
       "      <td>2009-12-10</td>\n",
       "      <td>...</td>\n",
       "      <td>[{\"iso_639_1\": \"en\", \"name\": \"English\"}, {\"iso...</td>\n",
       "      <td>Enter the World of Pandora.</td>\n",
       "      <td>7.2</td>\n",
       "      <td>11800</td>\n",
       "      <td>Avatar</td>\n",
       "      <td>[{\"cast_id\": 242, \"character\": \"Jake Sully\", \"...</td>\n",
       "      <td>[{\"credit_id\": \"52fe48009251416c750aca23\", \"de...</td>\n",
       "      <td>7.199371</td>\n",
       "      <td>0.780797</td>\n",
       "      <td>0.171815</td>\n",
       "    </tr>\n",
       "    <tr>\n",
       "      <th>1</th>\n",
       "      <td>300000000</td>\n",
       "      <td>[{\"id\": 12, \"name\": \"Adventure\"}, {\"id\": 14, \"...</td>\n",
       "      <td>285</td>\n",
       "      <td>[{\"id\": 270, \"name\": \"ocean\"}, {\"id\": 726, \"na...</td>\n",
       "      <td>en</td>\n",
       "      <td>Pirates of the Caribbean: At World's End</td>\n",
       "      <td>Captain Barbossa, long believed to be dead, ha...</td>\n",
       "      <td>139.082615</td>\n",
       "      <td>[{\"iso_3166_1\": \"US\", \"name\": \"United States o...</td>\n",
       "      <td>2007-05-19</td>\n",
       "      <td>...</td>\n",
       "      <td>[{\"iso_639_1\": \"en\", \"name\": \"English\"}]</td>\n",
       "      <td>At the end of the world, the adventure begins.</td>\n",
       "      <td>6.9</td>\n",
       "      <td>4500</td>\n",
       "      <td>Pirates of the Caribbean: At World's End</td>\n",
       "      <td>[{\"cast_id\": 4, \"character\": \"Captain Jack Spa...</td>\n",
       "      <td>[{\"credit_id\": \"52fe4232c3a36847f800b579\", \"de...</td>\n",
       "      <td>6.898799</td>\n",
       "      <td>0.730063</td>\n",
       "      <td>0.158846</td>\n",
       "    </tr>\n",
       "  </tbody>\n",
       "</table>\n",
       "<p>2 rows × 22 columns</p>\n",
       "</div>"
      ],
      "text/plain": [
       "      budget                                             genres     id  \\\n",
       "0  237000000  [{\"id\": 28, \"name\": \"Action\"}, {\"id\": 12, \"nam...  19995   \n",
       "1  300000000  [{\"id\": 12, \"name\": \"Adventure\"}, {\"id\": 14, \"...    285   \n",
       "\n",
       "                                            keywords original_language  \\\n",
       "0  [{\"id\": 1463, \"name\": \"culture clash\"}, {\"id\":...                en   \n",
       "1  [{\"id\": 270, \"name\": \"ocean\"}, {\"id\": 726, \"na...                en   \n",
       "\n",
       "                             original_title  \\\n",
       "0                                    Avatar   \n",
       "1  Pirates of the Caribbean: At World's End   \n",
       "\n",
       "                                            overview  popularity  \\\n",
       "0  In the 22nd century, a paraplegic Marine is di...  150.437577   \n",
       "1  Captain Barbossa, long believed to be dead, ha...  139.082615   \n",
       "\n",
       "                                production_countries release_date  ...  \\\n",
       "0  [{\"iso_3166_1\": \"US\", \"name\": \"United States o...   2009-12-10  ...   \n",
       "1  [{\"iso_3166_1\": \"US\", \"name\": \"United States o...   2007-05-19  ...   \n",
       "\n",
       "                                    spoken_languages  \\\n",
       "0  [{\"iso_639_1\": \"en\", \"name\": \"English\"}, {\"iso...   \n",
       "1           [{\"iso_639_1\": \"en\", \"name\": \"English\"}]   \n",
       "\n",
       "                                          tagline vote_average vote_count  \\\n",
       "0                     Enter the World of Pandora.          7.2      11800   \n",
       "1  At the end of the world, the adventure begins.          6.9       4500   \n",
       "\n",
       "                                      title  \\\n",
       "0                                    Avatar   \n",
       "1  Pirates of the Caribbean: At World's End   \n",
       "\n",
       "                                                cast  \\\n",
       "0  [{\"cast_id\": 242, \"character\": \"Jake Sully\", \"...   \n",
       "1  [{\"cast_id\": 4, \"character\": \"Captain Jack Spa...   \n",
       "\n",
       "                                                crew weighted_average  \\\n",
       "0  [{\"credit_id\": \"52fe48009251416c750aca23\", \"de...         7.199371   \n",
       "1  [{\"credit_id\": \"52fe4232c3a36847f800b579\", \"de...         6.898799   \n",
       "\n",
       "  Scaled_weighted_average  Scaled_popularity  \n",
       "0                0.780797           0.171815  \n",
       "1                0.730063           0.158846  \n",
       "\n",
       "[2 rows x 22 columns]"
      ]
     },
     "execution_count": 28,
     "metadata": {},
     "output_type": "execute_result"
    }
   ],
   "source": [
    "movies_cleaned_df.head(2)"
   ]
  },
  {
   "cell_type": "code",
   "execution_count": 29,
   "id": "9fd60a7d",
   "metadata": {
    "execution": {
     "iopub.execute_input": "2023-07-11T15:14:23.335108Z",
     "iopub.status.busy": "2023-07-11T15:14:23.334710Z",
     "iopub.status.idle": "2023-07-11T15:14:23.358001Z",
     "shell.execute_reply": "2023-07-11T15:14:23.356448Z"
    },
    "papermill": {
     "duration": 0.040061,
     "end_time": "2023-07-11T15:14:23.360760",
     "exception": false,
     "start_time": "2023-07-11T15:14:23.320699",
     "status": "completed"
    },
    "tags": []
   },
   "outputs": [
    {
     "data": {
      "text/html": [
       "<div>\n",
       "<style scoped>\n",
       "    .dataframe tbody tr th:only-of-type {\n",
       "        vertical-align: middle;\n",
       "    }\n",
       "\n",
       "    .dataframe tbody tr th {\n",
       "        vertical-align: top;\n",
       "    }\n",
       "\n",
       "    .dataframe thead th {\n",
       "        text-align: right;\n",
       "    }\n",
       "</style>\n",
       "<table border=\"1\" class=\"dataframe\">\n",
       "  <thead>\n",
       "    <tr style=\"text-align: right;\">\n",
       "      <th></th>\n",
       "      <th>original_title</th>\n",
       "      <th>Scaled_weighted_average</th>\n",
       "      <th>Scaled_popularity</th>\n",
       "      <th>score</th>\n",
       "    </tr>\n",
       "  </thead>\n",
       "  <tbody>\n",
       "    <tr>\n",
       "      <th>95</th>\n",
       "      <td>Interstellar</td>\n",
       "      <td>0.932606</td>\n",
       "      <td>0.827162</td>\n",
       "      <td>0.879884</td>\n",
       "    </tr>\n",
       "    <tr>\n",
       "      <th>546</th>\n",
       "      <td>Minions</td>\n",
       "      <td>0.645794</td>\n",
       "      <td>1.000000</td>\n",
       "      <td>0.822897</td>\n",
       "    </tr>\n",
       "    <tr>\n",
       "      <th>94</th>\n",
       "      <td>Guardians of the Galaxy</td>\n",
       "      <td>0.898847</td>\n",
       "      <td>0.549462</td>\n",
       "      <td>0.724155</td>\n",
       "    </tr>\n",
       "    <tr>\n",
       "      <th>788</th>\n",
       "      <td>Deadpool</td>\n",
       "      <td>0.814527</td>\n",
       "      <td>0.587690</td>\n",
       "      <td>0.701108</td>\n",
       "    </tr>\n",
       "    <tr>\n",
       "      <th>127</th>\n",
       "      <td>Mad Max: Fury Road</td>\n",
       "      <td>0.780770</td>\n",
       "      <td>0.495989</td>\n",
       "      <td>0.638379</td>\n",
       "    </tr>\n",
       "    <tr>\n",
       "      <th>3865</th>\n",
       "      <td>Whiplash</td>\n",
       "      <td>0.965987</td>\n",
       "      <td>0.219887</td>\n",
       "      <td>0.592937</td>\n",
       "    </tr>\n",
       "    <tr>\n",
       "      <th>65</th>\n",
       "      <td>The Dark Knight</td>\n",
       "      <td>0.949496</td>\n",
       "      <td>0.213941</td>\n",
       "      <td>0.581718</td>\n",
       "    </tr>\n",
       "    <tr>\n",
       "      <th>1881</th>\n",
       "      <td>The Shawshank Redemption</td>\n",
       "      <td>1.000000</td>\n",
       "      <td>0.156179</td>\n",
       "      <td>0.578090</td>\n",
       "    </tr>\n",
       "    <tr>\n",
       "      <th>3337</th>\n",
       "      <td>The Godfather</td>\n",
       "      <td>0.983010</td>\n",
       "      <td>0.164074</td>\n",
       "      <td>0.573542</td>\n",
       "    </tr>\n",
       "    <tr>\n",
       "      <th>199</th>\n",
       "      <td>Pirates of the Caribbean: The Curse of the Bla...</td>\n",
       "      <td>0.831313</td>\n",
       "      <td>0.310620</td>\n",
       "      <td>0.570966</td>\n",
       "    </tr>\n",
       "    <tr>\n",
       "      <th>28</th>\n",
       "      <td>Jurassic World</td>\n",
       "      <td>0.662696</td>\n",
       "      <td>0.478206</td>\n",
       "      <td>0.570451</td>\n",
       "    </tr>\n",
       "    <tr>\n",
       "      <th>662</th>\n",
       "      <td>Fight Club</td>\n",
       "      <td>0.966308</td>\n",
       "      <td>0.167611</td>\n",
       "      <td>0.566960</td>\n",
       "    </tr>\n",
       "    <tr>\n",
       "      <th>96</th>\n",
       "      <td>Inception</td>\n",
       "      <td>0.932650</td>\n",
       "      <td>0.191397</td>\n",
       "      <td>0.562024</td>\n",
       "    </tr>\n",
       "    <tr>\n",
       "      <th>88</th>\n",
       "      <td>Big Hero 6</td>\n",
       "      <td>0.881863</td>\n",
       "      <td>0.232685</td>\n",
       "      <td>0.557274</td>\n",
       "    </tr>\n",
       "    <tr>\n",
       "      <th>809</th>\n",
       "      <td>Forrest Gump</td>\n",
       "      <td>0.949394</td>\n",
       "      <td>0.157762</td>\n",
       "      <td>0.553578</td>\n",
       "    </tr>\n",
       "    <tr>\n",
       "      <th>3232</th>\n",
       "      <td>Pulp Fiction</td>\n",
       "      <td>0.966277</td>\n",
       "      <td>0.138723</td>\n",
       "      <td>0.552500</td>\n",
       "    </tr>\n",
       "    <tr>\n",
       "      <th>2294</th>\n",
       "      <td>千と千尋の神隠し</td>\n",
       "      <td>0.965924</td>\n",
       "      <td>0.135874</td>\n",
       "      <td>0.550899</td>\n",
       "    </tr>\n",
       "    <tr>\n",
       "      <th>3719</th>\n",
       "      <td>One Flew Over the Cuckoo's Nest</td>\n",
       "      <td>0.948879</td>\n",
       "      <td>0.145647</td>\n",
       "      <td>0.547263</td>\n",
       "    </tr>\n",
       "    <tr>\n",
       "      <th>2731</th>\n",
       "      <td>The Godfather: Part II</td>\n",
       "      <td>0.965827</td>\n",
       "      <td>0.120826</td>\n",
       "      <td>0.543326</td>\n",
       "    </tr>\n",
       "    <tr>\n",
       "      <th>1818</th>\n",
       "      <td>Schindler's List</td>\n",
       "      <td>0.965997</td>\n",
       "      <td>0.119314</td>\n",
       "      <td>0.542656</td>\n",
       "    </tr>\n",
       "  </tbody>\n",
       "</table>\n",
       "</div>"
      ],
      "text/plain": [
       "                                         original_title  \\\n",
       "95                                         Interstellar   \n",
       "546                                             Minions   \n",
       "94                              Guardians of the Galaxy   \n",
       "788                                            Deadpool   \n",
       "127                                  Mad Max: Fury Road   \n",
       "3865                                           Whiplash   \n",
       "65                                      The Dark Knight   \n",
       "1881                           The Shawshank Redemption   \n",
       "3337                                      The Godfather   \n",
       "199   Pirates of the Caribbean: The Curse of the Bla...   \n",
       "28                                       Jurassic World   \n",
       "662                                          Fight Club   \n",
       "96                                            Inception   \n",
       "88                                           Big Hero 6   \n",
       "809                                        Forrest Gump   \n",
       "3232                                       Pulp Fiction   \n",
       "2294                                           千と千尋の神隠し   \n",
       "3719                    One Flew Over the Cuckoo's Nest   \n",
       "2731                             The Godfather: Part II   \n",
       "1818                                   Schindler's List   \n",
       "\n",
       "      Scaled_weighted_average  Scaled_popularity     score  \n",
       "95                   0.932606           0.827162  0.879884  \n",
       "546                  0.645794           1.000000  0.822897  \n",
       "94                   0.898847           0.549462  0.724155  \n",
       "788                  0.814527           0.587690  0.701108  \n",
       "127                  0.780770           0.495989  0.638379  \n",
       "3865                 0.965987           0.219887  0.592937  \n",
       "65                   0.949496           0.213941  0.581718  \n",
       "1881                 1.000000           0.156179  0.578090  \n",
       "3337                 0.983010           0.164074  0.573542  \n",
       "199                  0.831313           0.310620  0.570966  \n",
       "28                   0.662696           0.478206  0.570451  \n",
       "662                  0.966308           0.167611  0.566960  \n",
       "96                   0.932650           0.191397  0.562024  \n",
       "88                   0.881863           0.232685  0.557274  \n",
       "809                  0.949394           0.157762  0.553578  \n",
       "3232                 0.966277           0.138723  0.552500  \n",
       "2294                 0.965924           0.135874  0.550899  \n",
       "3719                 0.948879           0.145647  0.547263  \n",
       "2731                 0.965827           0.120826  0.543326  \n",
       "1818                 0.965997           0.119314  0.542656  "
      ]
     },
     "execution_count": 29,
     "metadata": {},
     "output_type": "execute_result"
    }
   ],
   "source": [
    "movies_cleaned_df['score'] = movies_cleaned_df['Scaled_weighted_average'] * 0.5 + movies_cleaned_df['Scaled_popularity'] * 0.5\n",
    "movies_scored_df = movies_cleaned_df.sort_values(['score'], ascending=False)\n",
    "movies_scored_df[['original_title', 'Scaled_weighted_average', 'Scaled_popularity', 'score']].head(20)"
   ]
  },
  {
   "cell_type": "code",
   "execution_count": 30,
   "id": "009f415b",
   "metadata": {
    "execution": {
     "iopub.execute_input": "2023-07-11T15:14:23.389569Z",
     "iopub.status.busy": "2023-07-11T15:14:23.388784Z",
     "iopub.status.idle": "2023-07-11T15:14:23.813134Z",
     "shell.execute_reply": "2023-07-11T15:14:23.811988Z"
    },
    "papermill": {
     "duration": 0.441864,
     "end_time": "2023-07-11T15:14:23.815395",
     "exception": false,
     "start_time": "2023-07-11T15:14:23.373531",
     "status": "completed"
    },
    "tags": []
   },
   "outputs": [
    {
     "data": {
      "text/plain": [
       "Text(0, 0.5, 'Movie Title')"
      ]
     },
     "execution_count": 30,
     "metadata": {},
     "output_type": "execute_result"
    },
    {
     "data": {
      "image/png": "[encoded data removed]",
      "text/plain": [
       "<Figure size 1600x600 with 1 Axes>"
      ]
     },
     "metadata": {},
     "output_type": "display_data"
    }
   ],
   "source": [
    "\n",
    "scored_df = movies_cleaned_df.sort_values('score', ascending=False)\n",
    "\n",
    "plt.figure(figsize=(16,6))\n",
    "\n",
    "ax = sns.barplot(x=scored_df['score'].head(10), y=scored_df['original_title'].head(10), data=scored_df, palette='deep')\n",
    "\n",
    "#plt.xlim(3.55, 5.25)\n",
    "plt.title('Best Rated & Most Popular Blend', weight='bold')\n",
    "plt.xlabel('Score', weight='bold')\n",
    "plt.ylabel('Movie Title', weight='bold')"
   ]
  },
  {
   "cell_type": "code",
   "execution_count": null,
   "id": "65f85869",
   "metadata": {
    "papermill": {
     "duration": 0.013412,
     "end_time": "2023-07-11T15:14:23.842908",
     "exception": false,
     "start_time": "2023-07-11T15:14:23.829496",
     "status": "completed"
    },
    "tags": []
   },
   "outputs": [],
   "source": []
  }
 ],
 "metadata": {
  "kernelspec": {
   "display_name": "Python 3",
   "language": "python",
   "name": "python3"
  },
  "language_info": {
   "codemirror_mode": {
    "name": "ipython",
    "version": 3
   },
   "file_extension": ".py",
   "mimetype": "text/x-python",
   "name": "python",
   "nbconvert_exporter": "python",
   "pygments_lexer": "ipython3",
   "version": "3.10.10"
  },
  "papermill": {
   "default_parameters": {},
   "duration": 19.781249,
   "end_time": "2023-07-11T15:14:24.982304",
   "environment_variables": {},
   "exception": null,
   "input_path": "__notebook__.ipynb",
   "output_path": "__notebook__.ipynb",
   "parameters": {},
   "start_time": "2023-07-11T15:14:05.201055",
   "version": "2.4.0"
  }
 },
 "nbformat": 4,
 "nbformat_minor": 5
}
